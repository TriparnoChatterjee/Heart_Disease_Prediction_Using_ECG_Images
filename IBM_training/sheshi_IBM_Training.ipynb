{
 "cells": [
  {
   "cell_type": "code",
   "execution_count": 1,
   "id": "a647e3a8",
   "metadata": {},
   "outputs": [
    {
     "name": "stdout",
     "output_type": "stream",
     "text": [
      "Requirement already satisfied: watson-machine-learning-client in c:\\users\\laksh\\anaconda3\\lib\\site-packages (1.0.391)\n",
      "Requirement already satisfied: tabulate in c:\\users\\laksh\\anaconda3\\lib\\site-packages (from watson-machine-learning-client) (0.8.10)\n",
      "Requirement already satisfied: urllib3 in c:\\users\\laksh\\anaconda3\\lib\\site-packages (from watson-machine-learning-client) (1.26.9)\n",
      "Requirement already satisfied: tqdm in c:\\users\\laksh\\anaconda3\\lib\\site-packages (from watson-machine-learning-client) (4.62.3)\n",
      "Requirement already satisfied: boto3 in c:\\users\\laksh\\anaconda3\\lib\\site-packages (from watson-machine-learning-client) (1.24.22)\n",
      "Requirement already satisfied: lomond in c:\\users\\laksh\\anaconda3\\lib\\site-packages (from watson-machine-learning-client) (0.3.3)\n",
      "Requirement already satisfied: certifi in c:\\users\\laksh\\anaconda3\\lib\\site-packages (from watson-machine-learning-client) (2021.10.8)\n",
      "Requirement already satisfied: ibm-cos-sdk in c:\\users\\laksh\\anaconda3\\lib\\site-packages (from watson-machine-learning-client) (2.11.0)\n",
      "Requirement already satisfied: pandas in c:\\users\\laksh\\anaconda3\\lib\\site-packages (from watson-machine-learning-client) (1.3.4)\n",
      "Requirement already satisfied: requests in c:\\users\\laksh\\anaconda3\\lib\\site-packages (from watson-machine-learning-client) (2.28.1)\n",
      "Requirement already satisfied: botocore<1.28.0,>=1.27.22 in c:\\users\\laksh\\anaconda3\\lib\\site-packages (from boto3->watson-machine-learning-client) (1.27.22)\n",
      "Requirement already satisfied: s3transfer<0.7.0,>=0.6.0 in c:\\users\\laksh\\anaconda3\\lib\\site-packages (from boto3->watson-machine-learning-client) (0.6.0)\n",
      "Requirement already satisfied: jmespath<2.0.0,>=0.7.1 in c:\\users\\laksh\\anaconda3\\lib\\site-packages (from boto3->watson-machine-learning-client) (0.10.0)\n",
      "Requirement already satisfied: python-dateutil<3.0.0,>=2.1 in c:\\users\\laksh\\anaconda3\\lib\\site-packages (from botocore<1.28.0,>=1.27.22->boto3->watson-machine-learning-client) (2.8.2)\n",
      "Requirement already satisfied: six>=1.5 in c:\\users\\laksh\\anaconda3\\lib\\site-packages (from python-dateutil<3.0.0,>=2.1->botocore<1.28.0,>=1.27.22->boto3->watson-machine-learning-client) (1.16.0)\n",
      "Requirement already satisfied: ibm-cos-sdk-s3transfer==2.11.0 in c:\\users\\laksh\\anaconda3\\lib\\site-packages (from ibm-cos-sdk->watson-machine-learning-client) (2.11.0)\n",
      "Requirement already satisfied: ibm-cos-sdk-core==2.11.0 in c:\\users\\laksh\\anaconda3\\lib\\site-packages (from ibm-cos-sdk->watson-machine-learning-client) (2.11.0)\n",
      "Requirement already satisfied: charset-normalizer<3,>=2 in c:\\users\\laksh\\anaconda3\\lib\\site-packages (from requests->watson-machine-learning-client) (2.0.4)\n",
      "Requirement already satisfied: idna<4,>=2.5 in c:\\users\\laksh\\anaconda3\\lib\\site-packages (from requests->watson-machine-learning-client) (3.2)\n",
      "Requirement already satisfied: numpy>=1.17.3 in c:\\users\\laksh\\anaconda3\\lib\\site-packages (from pandas->watson-machine-learning-client) (1.20.3)\n",
      "Requirement already satisfied: pytz>=2017.3 in c:\\users\\laksh\\anaconda3\\lib\\site-packages (from pandas->watson-machine-learning-client) (2021.3)\n",
      "Requirement already satisfied: colorama in c:\\users\\laksh\\anaconda3\\lib\\site-packages (from tqdm->watson-machine-learning-client) (0.4.4)\n"
     ]
    }
   ],
   "source": [
    "!pip install watson-machine-learning-client --upgrade"
   ]
  },
  {
   "cell_type": "code",
   "execution_count": 2,
   "id": "7060e210",
   "metadata": {},
   "outputs": [
    {
     "name": "stdout",
     "output_type": "stream",
     "text": [
      "Requirement already satisfied: ibm_watson_machine_learning in c:\\users\\laksh\\anaconda3\\lib\\site-packages (1.0.222)\n",
      "Requirement already satisfied: tabulate in c:\\users\\laksh\\anaconda3\\lib\\site-packages (from ibm_watson_machine_learning) (0.8.10)\n",
      "Requirement already satisfied: pandas<1.4.0,>=0.24.2 in c:\\users\\laksh\\anaconda3\\lib\\site-packages (from ibm_watson_machine_learning) (1.3.4)\n",
      "Requirement already satisfied: requests in c:\\users\\laksh\\anaconda3\\lib\\site-packages (from ibm_watson_machine_learning) (2.28.1)\n",
      "Requirement already satisfied: packaging in c:\\users\\laksh\\anaconda3\\lib\\site-packages (from ibm_watson_machine_learning) (21.0)\n",
      "Requirement already satisfied: urllib3 in c:\\users\\laksh\\anaconda3\\lib\\site-packages (from ibm_watson_machine_learning) (1.26.9)\n",
      "Requirement already satisfied: importlib-metadata in c:\\users\\laksh\\anaconda3\\lib\\site-packages (from ibm_watson_machine_learning) (4.8.1)\n",
      "Requirement already satisfied: ibm-cos-sdk==2.11.* in c:\\users\\laksh\\anaconda3\\lib\\site-packages (from ibm_watson_machine_learning) (2.11.0)\n",
      "Requirement already satisfied: certifi in c:\\users\\laksh\\anaconda3\\lib\\site-packages (from ibm_watson_machine_learning) (2021.10.8)\n",
      "Requirement already satisfied: lomond in c:\\users\\laksh\\anaconda3\\lib\\site-packages (from ibm_watson_machine_learning) (0.3.3)\n",
      "Requirement already satisfied: ibm-cos-sdk-s3transfer==2.11.0 in c:\\users\\laksh\\anaconda3\\lib\\site-packages (from ibm-cos-sdk==2.11.*->ibm_watson_machine_learning) (2.11.0)\n",
      "Requirement already satisfied: ibm-cos-sdk-core==2.11.0 in c:\\users\\laksh\\anaconda3\\lib\\site-packages (from ibm-cos-sdk==2.11.*->ibm_watson_machine_learning) (2.11.0)\n",
      "Requirement already satisfied: jmespath<1.0.0,>=0.7.1 in c:\\users\\laksh\\anaconda3\\lib\\site-packages (from ibm-cos-sdk==2.11.*->ibm_watson_machine_learning) (0.10.0)\n",
      "Requirement already satisfied: python-dateutil<3.0.0,>=2.1 in c:\\users\\laksh\\anaconda3\\lib\\site-packages (from ibm-cos-sdk-core==2.11.0->ibm-cos-sdk==2.11.*->ibm_watson_machine_learning) (2.8.2)\n",
      "Requirement already satisfied: pytz>=2017.3 in c:\\users\\laksh\\anaconda3\\lib\\site-packages (from pandas<1.4.0,>=0.24.2->ibm_watson_machine_learning) (2021.3)\n",
      "Requirement already satisfied: numpy>=1.17.3 in c:\\users\\laksh\\anaconda3\\lib\\site-packages (from pandas<1.4.0,>=0.24.2->ibm_watson_machine_learning) (1.20.3)\n",
      "Requirement already satisfied: six>=1.5 in c:\\users\\laksh\\anaconda3\\lib\\site-packages (from python-dateutil<3.0.0,>=2.1->ibm-cos-sdk-core==2.11.0->ibm-cos-sdk==2.11.*->ibm_watson_machine_learning) (1.16.0)\n",
      "Requirement already satisfied: charset-normalizer<3,>=2 in c:\\users\\laksh\\anaconda3\\lib\\site-packages (from requests->ibm_watson_machine_learning) (2.0.4)\n",
      "Requirement already satisfied: idna<4,>=2.5 in c:\\users\\laksh\\anaconda3\\lib\\site-packages (from requests->ibm_watson_machine_learning) (3.2)\n",
      "Requirement already satisfied: zipp>=0.5 in c:\\users\\laksh\\anaconda3\\lib\\site-packages (from importlib-metadata->ibm_watson_machine_learning) (3.6.0)\n",
      "Requirement already satisfied: pyparsing>=2.0.2 in c:\\users\\laksh\\anaconda3\\lib\\site-packages (from packaging->ibm_watson_machine_learning) (3.0.4)\n"
     ]
    }
   ],
   "source": [
    "!pip install ibm_watson_machine_learning"
   ]
  },
  {
   "cell_type": "code",
   "execution_count": 3,
   "id": "492b6b95",
   "metadata": {},
   "outputs": [],
   "source": [
    "from ibm_watson_machine_learning import APIClient\n",
    "wml_credentials={\n",
    "    \"url\":\"https://us-south.ml.cloud.ibm.com\",\n",
    "    \"apikey\":\"EfnNlIAqu-_QXB0QsQqQQlnwkes_B9ssggk8ipjZQH67\"\n",
    "}\n",
    "client=APIClient(wml_credentials)"
   ]
  },
  {
   "cell_type": "code",
   "execution_count": 4,
   "id": "ad0ebcd3",
   "metadata": {},
   "outputs": [
    {
     "name": "stdout",
     "output_type": "stream",
     "text": [
      "Note: 'limit' is not provided. Only first 50 records will be displayed if the number of records exceed 50\n",
      "------------------------------------  ------------------  ------------------------\n",
      "ID                                    NAME                CREATED\n",
      "fc75767f-659b-4dc3-a238-cbb53d201cf2  CNN_ECG_IBM_SHESHI  2022-07-05T10:52:44.075Z\n",
      "------------------------------------  ------------------  ------------------------\n"
     ]
    }
   ],
   "source": [
    "client.spaces.list()"
   ]
  },
  {
   "cell_type": "code",
   "execution_count": 5,
   "id": "e2f31ec7",
   "metadata": {},
   "outputs": [
    {
     "data": {
      "text/plain": [
       "'SUCCESS'"
      ]
     },
     "execution_count": 5,
     "metadata": {},
     "output_type": "execute_result"
    }
   ],
   "source": [
    "space_uid = \"fc75767f-659b-4dc3-a238-cbb53d201cf2\"\n",
    "client.set.default_space(space_uid)"
   ]
  },
  {
   "cell_type": "code",
   "execution_count": 6,
   "id": "f957d312",
   "metadata": {},
   "outputs": [
    {
     "data": {
      "text/plain": [
       "'acd9c798-6974-5d2f-a657-ce06e986df4d'"
      ]
     },
     "execution_count": 6,
     "metadata": {},
     "output_type": "execute_result"
    }
   ],
   "source": [
    "software_spec_uid = client.software_specifications.get_uid_by_name(\"tensorflow_rt22.1-py3.9\")\n",
    "software_spec_uid"
   ]
  },
  {
   "cell_type": "code",
   "execution_count": null,
   "id": "f5433cac",
   "metadata": {},
   "outputs": [],
   "source": [
    "client.repository.download('70742fe8-7ac8-4855-994c-b572931ef787','my_model_sheshi.tar.gz')"
   ]
  },
  {
   "cell_type": "code",
   "execution_count": null,
   "id": "082e791a",
   "metadata": {},
   "outputs": [],
   "source": []
  }
 ],
 "metadata": {
  "kernelspec": {
   "display_name": "Python 3 (ipykernel)",
   "language": "python",
   "name": "python3"
  },
  "language_info": {
   "codemirror_mode": {
    "name": "ipython",
    "version": 3
   },
   "file_extension": ".py",
   "mimetype": "text/x-python",
   "name": "python",
   "nbconvert_exporter": "python",
   "pygments_lexer": "ipython3",
   "version": "3.10.6"
  }
 },
 "nbformat": 4,
 "nbformat_minor": 5
}
